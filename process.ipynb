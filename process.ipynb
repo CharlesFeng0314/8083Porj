{
 "cells": [
  {
   "cell_type": "code",
   "execution_count": 37,
   "metadata": {},
   "outputs": [],
   "source": [
    "import kagglehub\n",
    "import pandas as pd\n",
    "import numpy as np\n",
    "import snscrape.modules.twitter as sntwitter\n",
    "import random"
   ]
  },
  {
   "cell_type": "markdown",
   "metadata": {},
   "source": [
    "## dataset load"
   ]
  },
  {
   "cell_type": "code",
   "execution_count": 24,
   "metadata": {},
   "outputs": [
    {
     "data": {
      "text/plain": [
       "(15860, 8)"
      ]
     },
     "execution_count": 24,
     "metadata": {},
     "output_type": "execute_result"
    }
   ],
   "source": [
    "# netflix\n",
    "netflix = 'https://raw.githubusercontent.com/CharlesFeng0314/8083Porj/main/rwa_data/Netflix.csv'\n",
    "netflix = pd.read_csv(netflix)\n",
    "netflix.shape"
   ]
  },
  {
   "cell_type": "code",
   "execution_count": 25,
   "metadata": {},
   "outputs": [
    {
     "data": {
      "text/plain": [
       "(52390, 8)"
      ]
     },
     "execution_count": 25,
     "metadata": {},
     "output_type": "execute_result"
    }
   ],
   "source": [
    "#amazon\n",
    "amazon = 'https://raw.githubusercontent.com/CharlesFeng0314/8083Porj/main/rwa_data/amazon.csv'\n",
    "amazon = pd.read_csv(amazon)\n",
    "amazon.shape"
   ]
  },
  {
   "cell_type": "code",
   "execution_count": 26,
   "metadata": {},
   "outputs": [
    {
     "data": {
      "text/plain": [
       "(14711, 8)"
      ]
     },
     "execution_count": 26,
     "metadata": {},
     "output_type": "execute_result"
    }
   ],
   "source": [
    "#apple\n",
    "apple = 'https://raw.githubusercontent.com/CharlesFeng0314/8083Porj/main/rwa_data/apple.csv'\n",
    "apple = pd.read_csv(apple)\n",
    "apple.shape"
   ]
  },
  {
   "cell_type": "code",
   "execution_count": 27,
   "metadata": {},
   "outputs": [
    {
     "data": {
      "text/plain": [
       "(7967, 8)"
      ]
     },
     "execution_count": 27,
     "metadata": {},
     "output_type": "execute_result"
    }
   ],
   "source": [
    "#hbo\n",
    "hbo = 'https://raw.githubusercontent.com/CharlesFeng0314/8083Porj/main/rwa_data/hbo.csv'\n",
    "hbo = pd.read_csv(hbo)\n",
    "hbo.shape"
   ]
  },
  {
   "cell_type": "code",
   "execution_count": 28,
   "metadata": {},
   "outputs": [
    {
     "data": {
      "text/plain": [
       "(8342, 8)"
      ]
     },
     "execution_count": 28,
     "metadata": {},
     "output_type": "execute_result"
    }
   ],
   "source": [
    "#hulu\n",
    "hulu = 'https://raw.githubusercontent.com/CharlesFeng0314/8083Porj/main/rwa_data/hulu.csv'\n",
    "hulu = pd.read_csv(hulu)\n",
    "hulu.shape"
   ]
  },
  {
   "cell_type": "markdown",
   "metadata": {},
   "source": [
    "## data pre-process"
   ]
  },
  {
   "cell_type": "code",
   "execution_count": 29,
   "metadata": {},
   "outputs": [],
   "source": [
    "imdb_df = pd.concat([netflix, amazon, apple, hbo, hulu], ignore_index=True)\n",
    "imdb_df = imdb_df.drop_duplicates()\n",
    "imdb_df = imdb_df.dropna(subset=['imdbNumVotes'])"
   ]
  },
  {
   "cell_type": "code",
   "execution_count": 32,
   "metadata": {},
   "outputs": [],
   "source": [
    "Z = 1.96  # Z-score for 95% confidence level\n",
    "p = 0.5   # Estimated proportion (maximum variability)\n",
    "e = 0.05  # Margin of error\n",
    "N = imdb_df['imdbNumVotes']\n",
    "imdb_df['post_count'] = np.ceil((Z**2 * p * (1 - p)) / (e**2 + (Z**2 * p * (1 - p)) / N))"
   ]
  },
  {
   "cell_type": "code",
   "execution_count": 40,
   "metadata": {},
   "outputs": [
    {
     "data": {
      "text/html": [
       "<div>\n",
       "<style scoped>\n",
       "    .dataframe tbody tr th:only-of-type {\n",
       "        vertical-align: middle;\n",
       "    }\n",
       "\n",
       "    .dataframe tbody tr th {\n",
       "        vertical-align: top;\n",
       "    }\n",
       "\n",
       "    .dataframe thead th {\n",
       "        text-align: right;\n",
       "    }\n",
       "</style>\n",
       "<table border=\"1\" class=\"dataframe\">\n",
       "  <thead>\n",
       "    <tr style=\"text-align: right;\">\n",
       "      <th></th>\n",
       "      <th>title</th>\n",
       "      <th>type</th>\n",
       "      <th>genres</th>\n",
       "      <th>releaseYear</th>\n",
       "      <th>imdbId</th>\n",
       "      <th>imdbAverageRating</th>\n",
       "      <th>imdbNumVotes</th>\n",
       "      <th>availableCountries</th>\n",
       "      <th>post_count</th>\n",
       "    </tr>\n",
       "  </thead>\n",
       "  <tbody>\n",
       "    <tr>\n",
       "      <th>16014</th>\n",
       "      <td>The Shawshank Redemption</td>\n",
       "      <td>movie</td>\n",
       "      <td>Drama</td>\n",
       "      <td>1994.0</td>\n",
       "      <td>tt0111161</td>\n",
       "      <td>9.3</td>\n",
       "      <td>2957061.0</td>\n",
       "      <td>DK, FI, JP, NL, NO, SE</td>\n",
       "      <td>385.0</td>\n",
       "    </tr>\n",
       "    <tr>\n",
       "      <th>90981</th>\n",
       "      <td>The Shawshank Redemption</td>\n",
       "      <td>movie</td>\n",
       "      <td>Drama</td>\n",
       "      <td>1994.0</td>\n",
       "      <td>tt0111161</td>\n",
       "      <td>9.3</td>\n",
       "      <td>2957061.0</td>\n",
       "      <td>JP</td>\n",
       "      <td>385.0</td>\n",
       "    </tr>\n",
       "    <tr>\n",
       "      <th>71</th>\n",
       "      <td>The Shawshank Redemption</td>\n",
       "      <td>movie</td>\n",
       "      <td>Drama</td>\n",
       "      <td>1994.0</td>\n",
       "      <td>tt0111161</td>\n",
       "      <td>9.3</td>\n",
       "      <td>2957061.0</td>\n",
       "      <td>AD, BA, BE, BG, CA, CV, CZ, ES, GQ, HR, HU, IN...</td>\n",
       "      <td>385.0</td>\n",
       "    </tr>\n",
       "    <tr>\n",
       "      <th>83057</th>\n",
       "      <td>The Shawshank Redemption</td>\n",
       "      <td>movie</td>\n",
       "      <td>Drama</td>\n",
       "      <td>1994.0</td>\n",
       "      <td>tt0111161</td>\n",
       "      <td>9.3</td>\n",
       "      <td>2957061.0</td>\n",
       "      <td>AD, AR, BE, BO, BR, BZ, CL, CO, CR, DK, DO, EC...</td>\n",
       "      <td>385.0</td>\n",
       "    </tr>\n",
       "    <tr>\n",
       "      <th>51</th>\n",
       "      <td>The Dark Knight</td>\n",
       "      <td>movie</td>\n",
       "      <td>Action, Crime, Drama</td>\n",
       "      <td>2008.0</td>\n",
       "      <td>tt0468569</td>\n",
       "      <td>9.0</td>\n",
       "      <td>2938846.0</td>\n",
       "      <td>AD, AT, AU, BA, BG, CA, CH, CZ, DE, DK, ES, FI...</td>\n",
       "      <td>385.0</td>\n",
       "    </tr>\n",
       "    <tr>\n",
       "      <th>...</th>\n",
       "      <td>...</td>\n",
       "      <td>...</td>\n",
       "      <td>...</td>\n",
       "      <td>...</td>\n",
       "      <td>...</td>\n",
       "      <td>...</td>\n",
       "      <td>...</td>\n",
       "      <td>...</td>\n",
       "      <td>...</td>\n",
       "    </tr>\n",
       "    <tr>\n",
       "      <th>52416</th>\n",
       "      <td>My Yiddish Papi</td>\n",
       "      <td>movie</td>\n",
       "      <td>Animation, Short, War</td>\n",
       "      <td>2017.0</td>\n",
       "      <td>tt7970448</td>\n",
       "      <td>6.4</td>\n",
       "      <td>5.0</td>\n",
       "      <td>AG, AU, BB, BM, BS, BZ, CA, CM, GB, GH, GI, GY...</td>\n",
       "      <td>5.0</td>\n",
       "    </tr>\n",
       "    <tr>\n",
       "      <th>67012</th>\n",
       "      <td>Summer &amp; Todd - L'allegra fattoria</td>\n",
       "      <td>tv</td>\n",
       "      <td>Animation</td>\n",
       "      <td>2021.0</td>\n",
       "      <td>tt18135286</td>\n",
       "      <td>8.4</td>\n",
       "      <td>5.0</td>\n",
       "      <td>AD, ES, IT, SM, VA</td>\n",
       "      <td>5.0</td>\n",
       "    </tr>\n",
       "    <tr>\n",
       "      <th>15421</th>\n",
       "      <td>The Cheery Lee, Village Headman</td>\n",
       "      <td>tv</td>\n",
       "      <td>Comedy, Drama</td>\n",
       "      <td>2023.0</td>\n",
       "      <td>tt28364262</td>\n",
       "      <td>6.6</td>\n",
       "      <td>5.0</td>\n",
       "      <td>ID, MY, PH, SG, TH</td>\n",
       "      <td>5.0</td>\n",
       "    </tr>\n",
       "    <tr>\n",
       "      <th>11117</th>\n",
       "      <td>The G Word</td>\n",
       "      <td>movie</td>\n",
       "      <td>Comedy, Short</td>\n",
       "      <td>2016.0</td>\n",
       "      <td>tt5758674</td>\n",
       "      <td>5.0</td>\n",
       "      <td>5.0</td>\n",
       "      <td>TW</td>\n",
       "      <td>5.0</td>\n",
       "    </tr>\n",
       "    <tr>\n",
       "      <th>14155</th>\n",
       "      <td>Love Is True</td>\n",
       "      <td>tv</td>\n",
       "      <td>Drama</td>\n",
       "      <td>2021.0</td>\n",
       "      <td>tt12458186</td>\n",
       "      <td>7.4</td>\n",
       "      <td>5.0</td>\n",
       "      <td>HK, KR, MY, SG, TW</td>\n",
       "      <td>5.0</td>\n",
       "    </tr>\n",
       "  </tbody>\n",
       "</table>\n",
       "<p>90346 rows × 9 columns</p>\n",
       "</div>"
      ],
      "text/plain": [
       "                                    title   type                 genres  \\\n",
       "16014            The Shawshank Redemption  movie                  Drama   \n",
       "90981            The Shawshank Redemption  movie                  Drama   \n",
       "71               The Shawshank Redemption  movie                  Drama   \n",
       "83057            The Shawshank Redemption  movie                  Drama   \n",
       "51                        The Dark Knight  movie   Action, Crime, Drama   \n",
       "...                                   ...    ...                    ...   \n",
       "52416                     My Yiddish Papi  movie  Animation, Short, War   \n",
       "67012  Summer & Todd - L'allegra fattoria     tv              Animation   \n",
       "15421     The Cheery Lee, Village Headman     tv          Comedy, Drama   \n",
       "11117                          The G Word  movie          Comedy, Short   \n",
       "14155                        Love Is True     tv                  Drama   \n",
       "\n",
       "       releaseYear      imdbId  imdbAverageRating  imdbNumVotes  \\\n",
       "16014       1994.0   tt0111161                9.3     2957061.0   \n",
       "90981       1994.0   tt0111161                9.3     2957061.0   \n",
       "71          1994.0   tt0111161                9.3     2957061.0   \n",
       "83057       1994.0   tt0111161                9.3     2957061.0   \n",
       "51          2008.0   tt0468569                9.0     2938846.0   \n",
       "...            ...         ...                ...           ...   \n",
       "52416       2017.0   tt7970448                6.4           5.0   \n",
       "67012       2021.0  tt18135286                8.4           5.0   \n",
       "15421       2023.0  tt28364262                6.6           5.0   \n",
       "11117       2016.0   tt5758674                5.0           5.0   \n",
       "14155       2021.0  tt12458186                7.4           5.0   \n",
       "\n",
       "                                      availableCountries  post_count  \n",
       "16014                             DK, FI, JP, NL, NO, SE       385.0  \n",
       "90981                                                 JP       385.0  \n",
       "71     AD, BA, BE, BG, CA, CV, CZ, ES, GQ, HR, HU, IN...       385.0  \n",
       "83057  AD, AR, BE, BO, BR, BZ, CL, CO, CR, DK, DO, EC...       385.0  \n",
       "51     AD, AT, AU, BA, BG, CA, CH, CZ, DE, DK, ES, FI...       385.0  \n",
       "...                                                  ...         ...  \n",
       "52416  AG, AU, BB, BM, BS, BZ, CA, CM, GB, GH, GI, GY...         5.0  \n",
       "67012                                 AD, ES, IT, SM, VA         5.0  \n",
       "15421                                 ID, MY, PH, SG, TH         5.0  \n",
       "11117                                                 TW         5.0  \n",
       "14155                                 HK, KR, MY, SG, TW         5.0  \n",
       "\n",
       "[90346 rows x 9 columns]"
      ]
     },
     "execution_count": 40,
     "metadata": {},
     "output_type": "execute_result"
    }
   ],
   "source": [
    "imdb_df = imdb_df.sort_values(by='imdbNumVotes', ascending=False)\n",
    "imdb_df"
   ]
  },
  {
   "cell_type": "markdown",
   "metadata": {},
   "source": [
    "## Fetch posts"
   ]
  },
  {
   "cell_type": "code",
   "execution_count": 36,
   "metadata": {},
   "outputs": [],
   "source": [
    "## X\n",
    "import snscrape.modules.twitter as sntwitter\n",
    "import random\n",
    "import pandas as pd\n",
    "\n",
    "# 假设 imdb_df 已加载并包含以下列：title, type, genres, releaseYear, imdbId, imdbAverageRating, imdbNumVotes, availableCountries, post_count\n",
    "# 例如： imdb_df = pd.read_csv('your_data.csv')\n",
    "\n",
    "# 创建一个列表，用于存储最终的结果\n",
    "result_data = []\n",
    "\n",
    "# 遍历每一行，根据电影标题查询推文\n",
    "for index, row in imdb_df.iterrows():\n",
    "    query = row['title']  # 使用电影标题作为搜索关键词\n",
    "    max_samples = int(row['post_count'])  # 从 post_count 列获取随机抽取数量\n",
    "    tweets = []\n",
    "\n",
    "    # 使用 SNScrape 搜索推文\n",
    "    for tweet in sntwitter.TwitterSearchScraper(f\"{query}\").get_items():\n",
    "        tweets.append(tweet.content)  # 保存推文内容\n",
    "        if len(tweets) >= 1000:  # 限制最大抓取数量为 1000 条\n",
    "            break\n",
    "\n",
    "    # 检查抓取的推文数量是否足够\n",
    "    if len(tweets) >= max_samples:\n",
    "        sampled_tweets = random.sample(tweets, max_samples)  # 随机抽取指定数量的推文\n",
    "    else:\n",
    "        sampled_tweets = tweets  # 如果抓取的推文不足 max_samples，直接使用所有抓取的推文\n",
    "\n",
    "    # 将结果保存到字典中，并加入到结果列表\n",
    "    result_data.append({\n",
    "        'title': row['title'],\n",
    "        'type': row['type'],\n",
    "        'genres': row['genres'],\n",
    "        'releaseYear': row['releaseYear'],\n",
    "        'imdbId': row['imdbId'],\n",
    "        'imdbAverageRating': row['imdbAverageRating'],\n",
    "        'imdbNumVotes': row['imdbNumVotes'],\n",
    "        'availableCountries': row['availableCountries'],\n",
    "        'post_count': max_samples,\n",
    "        'sampled_tweets': sampled_tweets\n",
    "    })\n",
    "\n",
    "# 将结果转换为 DataFrame\n",
    "result_df = pd.DataFrame(result_data)\n",
    "\n",
    "# 显示结果\n",
    "print(result_df.head())\n",
    "\n"
   ]
  },
  {
   "cell_type": "code",
   "execution_count": null,
   "metadata": {},
   "outputs": [],
   "source": []
  }
 ],
 "metadata": {
  "kernelspec": {
   "display_name": "base",
   "language": "python",
   "name": "python3"
  },
  "language_info": {
   "codemirror_mode": {
    "name": "ipython",
    "version": 3
   },
   "file_extension": ".py",
   "mimetype": "text/x-python",
   "name": "python",
   "nbconvert_exporter": "python",
   "pygments_lexer": "ipython3",
   "version": "3.11.4"
  }
 },
 "nbformat": 4,
 "nbformat_minor": 2
}
